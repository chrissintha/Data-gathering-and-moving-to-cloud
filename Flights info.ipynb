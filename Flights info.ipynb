{
 "cells": [
  {
   "cell_type": "markdown",
   "id": "54fdb424-2574-4919-883b-70c6dfca9ae5",
   "metadata": {},
   "source": [
    "Automating data gethering from the internet to the database"
   ]
  },
  {
   "cell_type": "markdown",
   "id": "f613843f-75c8-4c4c-98d4-11423f4e68c4",
   "metadata": {},
   "source": [
    "GANS PROJECT For the Gans Project we need to work on getting information from avrious resources into our DB tables for further analysis Starting with Getting information about flights for major cities in germany. Using the AeroDataBoxAPI we get the flights information."
   ]
  },
  {
   "cell_type": "code",
   "execution_count": null,
   "id": "daabd815-b7c3-4b26-b4db-9f8a95cf5aa6",
   "metadata": {},
   "outputs": [],
   "source": [
    "#Flights API\n",
    "#Getting the arrivals for major cities in Germany form the AeroDataBoxAPI\n",
    "\n",
    "import requests\n",
    "from datetime import datetime\n",
    "from datetime import timedelta\n",
    "import pandas as pd\n",
    "from IPython.display import JSON\n",
    "\n",
    "#API key from the AeroDataBoxAPI\n",
    "API_key = \"API_KEY\"\n",
    "\n",
    "# Airports icoa\n",
    "list_airport_icoa = [\"EDDB\",\"EDDF\",\"EDDM\",\"EDDK\",\"EDDS\"]\n",
    "\n",
    "\n",
    "#company wants to know which flights will arrive the next day -Date Format.\n",
    "#Add 1 day.\n",
    "tomorrows_date = (datetime.now() + timedelta(days=1))\n",
    "tomorrows_date_from=tomorrows_date.strftime(\"%Y-%m-%dT%H:%M\")\n",
    "#add 11 hours\n",
    "future_date_and_time = tomorrows_date  + timedelta(hours=11)\n",
    "tomorrows_date_to = future_date_and_time.strftime(\"%Y-%m-%dT%H:%M\")\n",
    "def get_flight_info(flight_json,i):\n",
    "    # terminal\n",
    "    try: terminal = flight_json['arrival']['terminal']\n",
    "    except: terminal = None\n",
    "    # aircraft\n",
    "    try: aircraft = flight_json['aircraft']['model']\n",
    "    except: aircraft = None\n",
    "\n",
    "    return {\n",
    "        'dep_airport':flight_json['departure']['airport']['name'],\n",
    "        'sched_arr_loc_time':flight_json['arrival']['scheduledTimeLocal'],\n",
    "        'terminal':terminal,\n",
    "        'status':flight_json['status'],\n",
    "        'aircraft':aircraft,\n",
    "        'icao_code':i\n",
    "    }\n",
    "for i in list_airport_icoa:\n",
    "    print(i)\n",
    "    url = f\"https://aerodatabox.p.rapidapi.com/flights/airports/icao/{i}/{tomorrows_date_from}/{tomorrows_date_to}\"\n",
    "    querystring = {\"withLeg\":\"true\",\"withCancelled\":\"true\",\"withCodeshared\":\"true\",\n",
    "                   \"withCargo\":\"true\",\"withPrivate\":\"false\",\"withLocation\":\"false\"}\n",
    "\n",
    "    headers = {\n",
    "        \"X-RapidAPI-Host\": \"aerodatabox.p.rapidapi.com\",\n",
    "        \"X-RapidAPI-Key\": API_key\n",
    "    }\n",
    "    response = requests.request(\"GET\", url, headers=headers, params=querystring)\n",
    "    arrivals = response.json()['arrivals']\n",
    "    appended_data=pd.concat([appended_data, pd.DataFrame([get_flight_info(flight,i) for flight in arrivals])], ignore_index=True)"
   ]
  }
 ],
 "metadata": {
  "kernelspec": {
   "display_name": "Python 3 (ipykernel)",
   "language": "python",
   "name": "python3"
  },
  "language_info": {
   "codemirror_mode": {
    "name": "ipython",
    "version": 3
   },
   "file_extension": ".py",
   "mimetype": "text/x-python",
   "name": "python",
   "nbconvert_exporter": "python",
   "pygments_lexer": "ipython3",
   "version": "3.9.7"
  }
 },
 "nbformat": 4,
 "nbformat_minor": 5
}
