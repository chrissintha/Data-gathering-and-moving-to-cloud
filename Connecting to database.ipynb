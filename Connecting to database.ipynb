{
 "cells": [
  {
   "cell_type": "markdown",
   "id": "fccfabc0-dafe-4aec-aa5f-ab9a36b49ab3",
   "metadata": {},
   "source": [
    "Connecting to the Database"
   ]
  },
  {
   "cell_type": "code",
   "execution_count": null,
   "id": "863b6afd-f294-4cc6-8d51-e451c1710c94",
   "metadata": {},
   "outputs": [],
   "source": [
    "#Connecting to the local databse\n",
    "import pandas as pd\n",
    "import sqlalchemy\n",
    "import pymysql\n",
    "schema=\"name_of_schema\"\n",
    "host=\"host_name\"\n",
    "user=\"user_name\"\n",
    "password=\"user_password\"\n",
    "port=3306\n",
    "con = f'mysql+pymysql://{user}:{password}@{host}:{port}/{schema}'"
   ]
  },
  {
   "cell_type": "code",
   "execution_count": null,
   "id": "4cc6f9c8-9482-4320-bafe-c12cd4d491c1",
   "metadata": {},
   "outputs": [],
   "source": [
    "#create cities table and on execution the second time append the data in the existing database\n",
    "cities.dropna().to_sql('cities', con=con, if_exists='append', index=False)"
   ]
  },
  {
   "cell_type": "code",
   "execution_count": null,
   "id": "6c4c3c08-651c-41fd-b7eb-6e2bf9552baf",
   "metadata": {},
   "outputs": [],
   "source": [
    "#create airports cities table and on execution the second time append the data in the existing database\n",
    "airports_cities.dropna().to_sql('airports_cities', if_exists='append', con=con, index=False)"
   ]
  },
  {
   "cell_type": "code",
   "execution_count": null,
   "id": "7dfce076-97e7-4985-bad4-8beedcc70e80",
   "metadata": {},
   "outputs": [],
   "source": [
    "#create weather table and on execution the second time append the data in the existing database\n",
    "weather_result.assign(datetime = lambda x: pd.to_datetime(x['datetime'])).to_sql('weather', if_exists='append', con=con, index=False)"
   ]
  },
  {
   "cell_type": "code",
   "execution_count": null,
   "id": "f09bc9d5-b23e-4c01-88ba-6b07b63f0ddc",
   "metadata": {},
   "outputs": [],
   "source": [
    "#create arrivals table and on execution the second time append the data in the existing database\n",
    "import numpy as np\n",
    "(\n",
    "arrivals_DE\n",
    "    .replace({np.nan},'unknown')\n",
    "    .assign(sched_arr_loc_time = lambda x: pd.to_datetime(x['sched_arr_loc_time']))\n",
    "    .to_sql('arrivals', if_exists='append', con=con, index=False))"
   ]
  },
  {
   "cell_type": "code",
   "execution_count": null,
   "id": "c93262df-a4bd-436b-83db-850f8efcaea5",
   "metadata": {},
   "outputs": [],
   "source": [
    "#create sundata table and on execution the second time append the data in the existing database\n",
    "DE_Sundata.dropna().to_sql('sundata', if_exists='append', con=con, index=False)"
   ]
  }
 ],
 "metadata": {
  "kernelspec": {
   "display_name": "Python 3 (ipykernel)",
   "language": "python",
   "name": "python3"
  },
  "language_info": {
   "codemirror_mode": {
    "name": "ipython",
    "version": 3
   },
   "file_extension": ".py",
   "mimetype": "text/x-python",
   "name": "python",
   "nbconvert_exporter": "python",
   "pygments_lexer": "ipython3",
   "version": "3.9.7"
  }
 },
 "nbformat": 4,
 "nbformat_minor": 5
}
