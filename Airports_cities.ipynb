{
 "cells": [
  {
   "cell_type": "markdown",
   "id": "093f3db3-ccad-4774-b69f-a56ed79fca0e",
   "metadata": {},
   "source": [
    "Reading the information about the airports from csv file"
   ]
  },
  {
   "cell_type": "code",
   "execution_count": null,
   "id": "77838114-3878-4eb6-b2d7-354929b66d5c",
   "metadata": {},
   "outputs": [],
   "source": [
    "#reading data from csv file for information on the airports of the cities\n",
    "import pandas as pd\n",
    "​\n",
    "airports_cities = (\n",
    "pd.read_csv('API-GANS/airports.csv')\n",
    "    .query('type == \"large_airport\"')\n",
    "    .filter(['name','latitude_deg','longitude_deg','iso_country','iso_region','municipality','gps_code','iata_code'])\n",
    "    .rename(columns={'gps_code':'icao_code'})\n",
    "    .assign(municipality_iso_country = lambda x: x['municipality'] + ',' + x['iso_country'])\n",
    ")"
   ]
  }
 ],
 "metadata": {
  "kernelspec": {
   "display_name": "Python 3 (ipykernel)",
   "language": "python",
   "name": "python3"
  },
  "language_info": {
   "codemirror_mode": {
    "name": "ipython",
    "version": 3
   },
   "file_extension": ".py",
   "mimetype": "text/x-python",
   "name": "python",
   "nbconvert_exporter": "python",
   "pygments_lexer": "ipython3",
   "version": "3.9.7"
  }
 },
 "nbformat": 4,
 "nbformat_minor": 5
}
