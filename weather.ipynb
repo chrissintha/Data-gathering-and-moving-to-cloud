{
 "cells": [
  {
   "cell_type": "markdown",
   "id": "960a73d1-951a-4399-95cc-76f3ec3a53a5",
   "metadata": {},
   "source": [
    "The API for openweathermap is used for getting the weather information"
   ]
  },
  {
   "cell_type": "code",
   "execution_count": null,
   "id": "abcc44ab-0a1b-44ed-9482-3bc4c87341ac",
   "metadata": {},
   "outputs": [],
   "source": [
    "#weather information\n",
    "from pyowm import OWM\n",
    "from pyowm.utils import config\n",
    "from pyowm.utils import timestamps\n",
    "import pandas as pd\n",
    "import requests\n",
    "\n",
    "OWM_key = 'Own OWM key'\n",
    "\n",
    "city = [\"Berlin\", \"Cologne\", \"Frankfurt\", \"Munich\", \"Stuttgart\" ]\n",
    "country = \"DE\"\n",
    "\n",
    "forecast_api = []\n",
    "for i in city:\n",
    "    response = requests.get(f'http://api.openweathermap.org/data/2.5/forecast/?q={i},{country}&appid={OWM_key}&units=metric&lang=en')\n",
    "    forecast_api.append(response.json())\n",
    " # datetime, temperature, wind, prob_perc, rain_qty, snow \n",
    "weather_info = []\n",
    "for forecast_3h in forecast_api:\n",
    "    weather_hour = {'municipality_iso_country': forecast_3h['city']['name'] + ',' + forecast_3h['city']['country']}\n",
    "    for hour in forecast_3h['list']:\n",
    "        # datetime utc\n",
    "        weather_hour['datetime'] = hour['dt_txt']\n",
    "        # temperature \n",
    "        weather_hour['temperature'] = hour['main']['temp']\n",
    "        # wind\n",
    "        weather_hour['wind'] = hour['wind']['speed']\n",
    "        # probability precipitation \n",
    "        try: weather_hour['prob_perc'] = float(hour['pop'])\n",
    "        except: weather_hour['prob_perc'] = 0\n",
    "        # rain\n",
    "        try: weather_hour['rain_qty'] = float(hour['rain']['3h'])\n",
    "        except: weather_hour['rain_qty'] = 0\n",
    "        # wind \n",
    "        try: weather_hour['snow'] = float(hour['snow']['3h'])\n",
    "        except: weather_hour['snow'] = 0\n",
    "        weather_info.append(weather_hour.copy())\n",
    "        # weather_de = pd.concat(weather_de,pd.DataFrame.from_dict(weather_info), ignore_index=True)\n",
    "\n",
    "weather_de = pd.DataFrame(weather_info)"
   ]
  }
 ],
 "metadata": {
  "kernelspec": {
   "display_name": "Python 3 (ipykernel)",
   "language": "python",
   "name": "python3"
  },
  "language_info": {
   "codemirror_mode": {
    "name": "ipython",
    "version": 3
   },
   "file_extension": ".py",
   "mimetype": "text/x-python",
   "name": "python",
   "nbconvert_exporter": "python",
   "pygments_lexer": "ipython3",
   "version": "3.9.7"
  }
 },
 "nbformat": 4,
 "nbformat_minor": 5
}
