{
 "cells": [
  {
   "cell_type": "markdown",
   "id": "4d004e14-318b-453d-b4cd-45760670fdc2",
   "metadata": {},
   "source": [
    "Get information about the time of Sunrise or Sunset of a given location"
   ]
  },
  {
   "cell_type": "code",
   "execution_count": null,
   "id": "4e3d524a-5d91-4e21-9d2d-1b27d93dc21f",
   "metadata": {},
   "outputs": [],
   "source": [
    "# Information on Sun's position in city Frankfurt\n",
    "import requests\n",
    "from datetime import datetime\n",
    "from datetime import timedelta\n",
    "tomorrows_date = (datetime.now() + timedelta(days=1))\n",
    "API_Key=\"API_key\"\n",
    "latitude =\"8,68\"\n",
    "#Frankfurt\n",
    "url = \"https://geo-services-by-mvpc-com.p.rapidapi.com/sun_positions\"\n",
    "querystring = {\"location\":latitude,\"date\":tomorrows_date}\n",
    "headers = {\n",
    "\t\"X-RapidAPI-Host\": \"geo-services-by-mvpc-com.p.rapidapi.com\",\n",
    "\t\"X-RapidAPI-Key\":API_Key\n",
    "}\n",
    "\n",
    "response = requests.request(\"GET\", url, headers=headers, params=querystring)\n",
    "import pandas as pd\n",
    "sun_data_f= pd.json_normalize(response.json()['data'])\n",
    "# next step: select the columns you want to incude on your database\n",
    "sun_data_f= (\n",
    "sun_data_f\n",
    "    .filter(['sunrise','sunset','dawn','dusk','night','goldenHour' ])\n",
    "    .assign(city = 'Frankfurt,DE')\n",
    ")"
   ]
  },
  {
   "cell_type": "code",
   "execution_count": null,
   "id": "b77637f7-d81b-43a0-bcb9-da03365705b5",
   "metadata": {},
   "outputs": [],
   "source": [
    "# Information on Sun's position in city Stuttgart\n",
    "import requests\n",
    "from datetime import datetime\n",
    "from datetime import timedelta\n",
    "tomorrows_date = (datetime.now() + timedelta(days=1))\n",
    "API_Key=\"API_key\"\n",
    "latitude =\"9,1\"\n",
    "#Stuttgart\n",
    "url = \"https://geo-services-by-mvpc-com.p.rapidapi.com/sun_positions\"\n",
    "querystring = {\"location\":latitude,\"date\":tomorrows_date}\n",
    "headers = {\n",
    "\t\"X-RapidAPI-Host\": \"geo-services-by-mvpc-com.p.rapidapi.com\",\n",
    "\t\"X-RapidAPI-Key\":API_Key\n",
    "}\n",
    "\n",
    "response = requests.request(\"GET\", url, headers=headers, params=querystring)\n",
    "import pandas as pd\n",
    "sun_data_s= pd.json_normalize(response.json()['data'])\n",
    "# next step: select the columns you want to incude on your database\n",
    "sun_data_s= (\n",
    "    sun_data_s\n",
    "        .filter(['sunrise','sunset','dawn','dusk','night','goldenHour' ])\n",
    "        .assign(city = 'Stuttgart,DE')\n",
    "    )"
   ]
  },
  {
   "cell_type": "code",
   "execution_count": null,
   "id": "09f9da5b-e1bc-40e4-aa92-2e42b07cdc77",
   "metadata": {},
   "outputs": [],
   "source": [
    "# Information on Sun's position in city Berlin\n",
    "import requests\n",
    "from datetime import datetime\n",
    "from datetime import timedelta\n",
    "tomorrows_date = (datetime.now() + timedelta(days=1))\n",
    "API_Key=\"API_key\"\n",
    "latitude =\"13,4\"\n",
    "#Berlin\n",
    "url = \"https://geo-services-by-mvpc-com.p.rapidapi.com/sun_positions\"\n",
    "querystring = {\"location\":latitude,\"date\":tomorrows_date}\n",
    "headers = {\n",
    "\t\"X-RapidAPI-Host\": \"geo-services-by-mvpc-com.p.rapidapi.com\",\n",
    "\t\"X-RapidAPI-Key\":API_Key\n",
    "}\n",
    "\n",
    "response = requests.request(\"GET\", url, headers=headers, params=querystring)\n",
    "import pandas as pd\n",
    "sun_data_b= pd.json_normalize(response.json()['data'])\n",
    "# next step: select the columns you want to incude on your database\n",
    "sun_data_b = (\n",
    "sun_data_b\n",
    "    .filter(['sunrise','sunset','dawn','dusk','night','goldenHour' ])\n",
    "    .assign(city = 'Berlin,DE')\n",
    ")"
   ]
  },
  {
   "cell_type": "code",
   "execution_count": null,
   "id": "e1e4d593-a5d2-4451-94cf-bf3c84a40f9f",
   "metadata": {},
   "outputs": [],
   "source": [
    "# Information on Sun's position in city Munich\n",
    "import requests\n",
    "from datetime import datetime\n",
    "from datetime import timedelta\n",
    "tomorrows_date = (datetime.now() + timedelta(days=1))\n",
    "API_Key=\"API_key\"\n",
    "latitude =\"11,5\"\n",
    "#Munich\n",
    "url = \"https://geo-services-by-mvpc-com.p.rapidapi.com/sun_positions\"\n",
    "querystring = {\"location\":latitude,\"date\":tomorrows_date}\n",
    "headers = {\n",
    "\t\"X-RapidAPI-Host\": \"geo-services-by-mvpc-com.p.rapidapi.com\",\n",
    "\t\"X-RapidAPI-Key\": APIKey\n",
    "}\n",
    "\n",
    "response = requests.request(\"GET\", url, headers=headers, params=querystring)\n",
    "import pandas as pd\n",
    "sun_data_m= pd.json_normalize(response.json()['data'])\n",
    "# next step: select the columns you want to incude on your database\n",
    "sun_data_m= (\n",
    "    sun_data_m\n",
    "        .filter(['sunrise','sunset','dawn','dusk','night','goldenHour' ])\n",
    "        .assign(city = 'Munich,DE')\n",
    "    )"
   ]
  },
  {
   "cell_type": "code",
   "execution_count": null,
   "id": "9fe00050-c8f0-41f7-9c63-094b36bd1193",
   "metadata": {},
   "outputs": [],
   "source": [
    "DE_Sun = [sun_data_s, sun_data_f, sun_data_m, sun_data_b, sun_data_k ]\n",
    "DE_Sundata = pd.concat(DE_Sun)"
   ]
  }
 ],
 "metadata": {
  "kernelspec": {
   "display_name": "Python 3 (ipykernel)",
   "language": "python",
   "name": "python3"
  },
  "language_info": {
   "codemirror_mode": {
    "name": "ipython",
    "version": 3
   },
   "file_extension": ".py",
   "mimetype": "text/x-python",
   "name": "python",
   "nbconvert_exporter": "python",
   "pygments_lexer": "ipython3",
   "version": "3.9.7"
  }
 },
 "nbformat": 4,
 "nbformat_minor": 5
}
